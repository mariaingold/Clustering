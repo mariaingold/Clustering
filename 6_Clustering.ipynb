{
  "cells": [
    {
      "cell_type": "markdown",
      "metadata": {
        "button": false,
        "new_sheet": false,
        "run_control": {
          "read_only": false
        },
        "id": "BotlheJqBp6y"
      },
      "source": [
        "# Clustering\n",
        "\n",
        "## Author: Maria Ingold\n",
        "\n",
        "## Task A: Iris data\n",
        "- Perform K-Means clustering on the dataset, iris.csv (from the UCI Machine Learning Repository).\n",
        "- Before using the data for clustering, you might have to remove a few columns because the K-Means algorithm involves the calculation of Euclidian distance.\n",
        "- You can choose various values of K; however, you must also choose K = 3 in this case.\n",
        "- Upon clustering at K = 3, check how much similar your three clusters are as compared to the labels of species – setosa, versicolour, and verginica.\n",
        "\n",
        "## Task B: Wine data\n",
        "- Perform K-Means clustering on the dataset, wine.csv (from the UCI Machine Learning Repository).\n",
        "- Before using the data for clustering, you might have to remove a few columns like in the previous task.\n",
        "- You can choose various values of K; however, you must also choose K = 3 in this case.\n",
        "- Upon clustering at K = 3, check how much similar your three clusters are as compared to the labels of wines – 1, 2, and 3.\n",
        "\n",
        "## Task C: WeatherAUS data\n",
        "- Perform K-Means clustering on the dataset, weatherAUS.csv (from the Kaggle site).\n",
        "- Again, you will have to remove a few columns from this data and make it useful for clustering.\n",
        "- Play with a range of values of K, from, K=2 to K=6 and try to visualise the results of clustering using two-dimensional scatter plots.\n",
        "\n",
        "\n",
        "\n",
        "\n",
        "\n"
      ]
    },
    {
      "cell_type": "markdown",
      "metadata": {
        "button": false,
        "new_sheet": false,
        "run_control": {
          "read_only": false
        },
        "id": "0e12cvn1Bp61"
      },
      "source": [
        "### Import libraries\n"
      ]
    },
    {
      "cell_type": "code",
      "execution_count": null,
      "metadata": {
        "button": false,
        "new_sheet": false,
        "run_control": {
          "read_only": false
        },
        "id": "OcaoSmKxBp61"
      },
      "outputs": [],
      "source": [
        "import random\n",
        "import numpy as np\n",
        "import matplotlib.pyplot as plt\n",
        "from sklearn.cluster import KMeans\n",
        "\n",
        "%matplotlib inline"
      ]
    }
  ],
  "metadata": {
    "kernelspec": {
      "display_name": "Python 3",
      "language": "python",
      "name": "python3"
    },
    "language_info": {
      "codemirror_mode": {
        "name": "ipython",
        "version": 3
      },
      "file_extension": ".py",
      "mimetype": "text/x-python",
      "name": "python",
      "nbconvert_exporter": "python",
      "pygments_lexer": "ipython3",
      "version": "3.7.6"
    },
    "colab": {
      "provenance": []
    }
  },
  "nbformat": 4,
  "nbformat_minor": 0
}