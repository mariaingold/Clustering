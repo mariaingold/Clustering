# Clustering 

## Author: Maria Ingold

## Task A: Iris data
- Perform K-Means clustering on the dataset, iris.csv (from the UCI Machine Learning Repository). 
- Before using the data for clustering, you might have to remove a few columns because the K-Means algorithm involves the calculation of Euclidian distance. 
- You can choose various values of K; however, you must also choose K = 3 in this case. 
- Upon clustering at K = 3, check how much similar your three clusters are as compared to the labels of species – setosa, versicolour, and verginica.

## Task B: Wine data
- Perform K-Means clustering on the dataset, wine.csv (from the UCI Machine Learning Repository). 
- Before using the data for clustering, you might have to remove a few columns like in the previous task. 
- You can choose various values of K; however, you must also choose K = 3 in this case. 
- Upon clustering at K = 3, check how much similar your three clusters are as compared to the labels of wines – 1, 2, and 3.

## Task C: WeatherAUS data
- Perform K-Means clustering on the dataset, weatherAUS.csv (from the Kaggle site). 
- Again, you will have to remove a few columns from this data and make it useful for clustering. 
- Play with a range of values of K, from, K=2 to K=6 and try to visualise the results of clustering using two-dimensional scatter plots.

